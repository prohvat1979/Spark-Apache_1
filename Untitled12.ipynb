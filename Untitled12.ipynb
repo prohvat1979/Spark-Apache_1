{
  "nbformat": 4,
  "nbformat_minor": 0,
  "metadata": {
    "colab": {
      "provenance": []
    },
    "kernelspec": {
      "name": "python3",
      "display_name": "Python 3"
    },
    "language_info": {
      "name": "python"
    }
  },
  "cells": [
    {
      "cell_type": "markdown",
      "source": [
        "Урок 1. SQL & BigData\n",
        "\n",
        "Найти самую длинную последовательность упорядоченных чисел в RDD и вывести её."
      ],
      "metadata": {
        "id": "cLw-JzmlIoBC"
      }
    },
    {
      "cell_type": "code",
      "execution_count": 1,
      "metadata": {
        "colab": {
          "base_uri": "https://localhost:8080/"
        },
        "id": "bCm-aPduHFvG",
        "outputId": "47b4726e-93db-4d7a-d090-45bd6b4bfa85"
      },
      "outputs": [
        {
          "output_type": "stream",
          "name": "stdout",
          "text": [
            "Collecting pyspark\n",
            "  Downloading pyspark-3.5.3.tar.gz (317.3 MB)\n",
            "\u001b[2K     \u001b[90m━━━━━━━━━━━━━━━━━━━━━━━━━━━━━━━━━━━━━━━━\u001b[0m \u001b[32m317.3/317.3 MB\u001b[0m \u001b[31m4.0 MB/s\u001b[0m eta \u001b[36m0:00:00\u001b[0m\n",
            "\u001b[?25h  Preparing metadata (setup.py) ... \u001b[?25l\u001b[?25hdone\n",
            "Requirement already satisfied: py4j==0.10.9.7 in /usr/local/lib/python3.10/dist-packages (from pyspark) (0.10.9.7)\n",
            "Building wheels for collected packages: pyspark\n",
            "  Building wheel for pyspark (setup.py) ... \u001b[?25l\u001b[?25hdone\n",
            "  Created wheel for pyspark: filename=pyspark-3.5.3-py2.py3-none-any.whl size=317840625 sha256=286a27806a519a4b6d655318c31810fac6378ec0604f58c8c77e0a04d2a59a83\n",
            "  Stored in directory: /root/.cache/pip/wheels/1b/3a/92/28b93e2fbfdbb07509ca4d6f50c5e407f48dce4ddbda69a4ab\n",
            "Successfully built pyspark\n",
            "Installing collected packages: pyspark\n",
            "Successfully installed pyspark-3.5.3\n"
          ]
        }
      ],
      "source": [
        "pip install pyspark"
      ]
    },
    {
      "cell_type": "code",
      "source": [
        "import pyspark\n",
        "from pyspark import SparkContext\n",
        "from pyspark.sql import SparkSession"
      ],
      "metadata": {
        "id": "kGZkcdIDHoID"
      },
      "execution_count": 2,
      "outputs": []
    },
    {
      "cell_type": "code",
      "source": [
        "# разбиение данных на упорядоченные последовательности\n",
        "data = [30, 150, 180, -10, 56, 34, 24, 45, 67, 123, 150, 44, 32, 66, 77, 88]\n",
        "sequences = []\n",
        "seq = [data[0]]\n",
        "for x in data[1:]:\n",
        "    if x >= seq[-1]:\n",
        "        seq.append(x)\n",
        "    else:\n",
        "        sequences.append(seq)\n",
        "        seq = [x]\n",
        "if seq:\n",
        "    sequences.append(seq)\n",
        "\n",
        "print(sequences)\n",
        "\n",
        "# поиск последовательности максимальной длины\n",
        "sc = SparkContext(\"local\", \"LongestSequence\")\n",
        "rdd = sc.parallelize(sequences)\n",
        "longest = rdd.max(key=lambda x: len(x))\n",
        "print(longest)\n",
        "\n",
        "sc.stop()"
      ],
      "metadata": {
        "colab": {
          "base_uri": "https://localhost:8080/"
        },
        "id": "Z9asw0JYH828",
        "outputId": "95bdae43-da74-4d0e-ca56-1743faf50430"
      },
      "execution_count": 3,
      "outputs": [
        {
          "output_type": "stream",
          "name": "stdout",
          "text": [
            "[[30, 150, 180], [-10, 56], [34], [24, 45, 67, 123, 150], [44], [32, 66, 77, 88]]\n",
            "[24, 45, 67, 123, 150]\n"
          ]
        }
      ]
    }
  ]
}